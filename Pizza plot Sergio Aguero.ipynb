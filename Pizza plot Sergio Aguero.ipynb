{
 "cells": [
  {
   "cell_type": "code",
   "execution_count": 51,
   "metadata": {},
   "outputs": [],
   "source": [
    "import pandas as pd\n",
    "from urllib.request import urlopen\n",
    "\n",
    "import requests\n",
    "from io import BytesIO\n",
    "\n",
    "import matplotlib.pyplot as plt\n",
    "from PIL import Image\n",
    "\n",
    "from mplsoccer import PyPizza, add_image, FontManager\n",
    "\n",
    "from scipy import stats\n",
    "import math\n",
    "\n",
    "import numpy as np\n",
    "from statsbombpy import sb"
   ]
  },
  {
   "cell_type": "code",
   "execution_count": 30,
   "metadata": {},
   "outputs": [
    {
     "data": {
      "text/html": [
       "<div>\n",
       "<style scoped>\n",
       "    .dataframe tbody tr th:only-of-type {\n",
       "        vertical-align: middle;\n",
       "    }\n",
       "\n",
       "    .dataframe tbody tr th {\n",
       "        vertical-align: top;\n",
       "    }\n",
       "\n",
       "    .dataframe thead th {\n",
       "        text-align: right;\n",
       "    }\n",
       "</style>\n",
       "<table border=\"1\" class=\"dataframe\">\n",
       "  <thead>\n",
       "    <tr style=\"text-align: right;\">\n",
       "      <th></th>\n",
       "      <th>Name</th>\n",
       "      <th>Jersey Number</th>\n",
       "      <th>Club</th>\n",
       "      <th>Position</th>\n",
       "      <th>Nationality</th>\n",
       "      <th>Age</th>\n",
       "      <th>Appearances</th>\n",
       "      <th>Wins</th>\n",
       "      <th>Losses</th>\n",
       "      <th>Goals</th>\n",
       "      <th>...</th>\n",
       "      <th>Punches</th>\n",
       "      <th>High Claims</th>\n",
       "      <th>Catches</th>\n",
       "      <th>Sweeper clearances</th>\n",
       "      <th>Throw outs</th>\n",
       "      <th>Goal Kicks</th>\n",
       "      <th>Yellow cards</th>\n",
       "      <th>Red cards</th>\n",
       "      <th>Fouls</th>\n",
       "      <th>Offsides</th>\n",
       "    </tr>\n",
       "  </thead>\n",
       "  <tbody>\n",
       "    <tr>\n",
       "      <th>171</th>\n",
       "      <td>Brandon Pierrick</td>\n",
       "      <td>40.0</td>\n",
       "      <td>Crystal-Palace</td>\n",
       "      <td>Forward</td>\n",
       "      <td>England</td>\n",
       "      <td>18.0</td>\n",
       "      <td>2</td>\n",
       "      <td>0</td>\n",
       "      <td>1</td>\n",
       "      <td>0</td>\n",
       "      <td>...</td>\n",
       "      <td>NaN</td>\n",
       "      <td>NaN</td>\n",
       "      <td>NaN</td>\n",
       "      <td>NaN</td>\n",
       "      <td>NaN</td>\n",
       "      <td>NaN</td>\n",
       "      <td>0</td>\n",
       "      <td>0</td>\n",
       "      <td>0</td>\n",
       "      <td>0.0</td>\n",
       "    </tr>\n",
       "    <tr>\n",
       "      <th>13</th>\n",
       "      <td>Mesut Özil</td>\n",
       "      <td>10.0</td>\n",
       "      <td>Arsenal</td>\n",
       "      <td>Midfielder</td>\n",
       "      <td>Germany</td>\n",
       "      <td>31.0</td>\n",
       "      <td>184</td>\n",
       "      <td>100</td>\n",
       "      <td>39</td>\n",
       "      <td>33</td>\n",
       "      <td>...</td>\n",
       "      <td>NaN</td>\n",
       "      <td>NaN</td>\n",
       "      <td>NaN</td>\n",
       "      <td>NaN</td>\n",
       "      <td>NaN</td>\n",
       "      <td>NaN</td>\n",
       "      <td>13</td>\n",
       "      <td>0</td>\n",
       "      <td>95</td>\n",
       "      <td>83.0</td>\n",
       "    </tr>\n",
       "    <tr>\n",
       "      <th>94</th>\n",
       "      <td>Matthew Lowton</td>\n",
       "      <td>2.0</td>\n",
       "      <td>Burnley</td>\n",
       "      <td>Defender</td>\n",
       "      <td>England</td>\n",
       "      <td>31.0</td>\n",
       "      <td>172</td>\n",
       "      <td>49</td>\n",
       "      <td>83</td>\n",
       "      <td>2</td>\n",
       "      <td>...</td>\n",
       "      <td>NaN</td>\n",
       "      <td>NaN</td>\n",
       "      <td>NaN</td>\n",
       "      <td>NaN</td>\n",
       "      <td>NaN</td>\n",
       "      <td>NaN</td>\n",
       "      <td>35</td>\n",
       "      <td>0</td>\n",
       "      <td>144</td>\n",
       "      <td>1.0</td>\n",
       "    </tr>\n",
       "  </tbody>\n",
       "</table>\n",
       "<p>3 rows × 59 columns</p>\n",
       "</div>"
      ],
      "text/plain": [
       "                 Name  Jersey Number            Club    Position Nationality  \\\n",
       "171  Brandon Pierrick           40.0  Crystal-Palace     Forward     England   \n",
       "13         Mesut Özil           10.0         Arsenal  Midfielder     Germany   \n",
       "94     Matthew Lowton            2.0         Burnley    Defender     England   \n",
       "\n",
       "      Age  Appearances  Wins  Losses  Goals  ...  Punches  High Claims  \\\n",
       "171  18.0            2     0       1      0  ...      NaN          NaN   \n",
       "13   31.0          184   100      39     33  ...      NaN          NaN   \n",
       "94   31.0          172    49      83      2  ...      NaN          NaN   \n",
       "\n",
       "     Catches  Sweeper clearances  Throw outs  Goal Kicks  Yellow cards  \\\n",
       "171      NaN                 NaN         NaN         NaN             0   \n",
       "13       NaN                 NaN         NaN         NaN            13   \n",
       "94       NaN                 NaN         NaN         NaN            35   \n",
       "\n",
       "     Red cards Fouls  Offsides  \n",
       "171          0     0       0.0  \n",
       "13           0    95      83.0  \n",
       "94           0   144       1.0  \n",
       "\n",
       "[3 rows x 59 columns]"
      ]
     },
     "execution_count": 30,
     "metadata": {},
     "output_type": "execute_result"
    }
   ],
   "source": [
    "df = pd.read_csv(\"dataset - 2020-09-24.csv\")\n",
    "df.sample(3)"
   ]
  },
  {
   "cell_type": "code",
   "execution_count": 31,
   "metadata": {},
   "outputs": [
    {
     "data": {
      "text/plain": [
       "Index(['Name', 'Jersey Number', 'Club', 'Position', 'Nationality', 'Age',\n",
       "       'Appearances', 'Wins', 'Losses', 'Goals', 'Goals per match',\n",
       "       'Headed goals', 'Goals with right foot', 'Goals with left foot',\n",
       "       'Penalties scored', 'Freekicks scored', 'Shots', 'Shots on target',\n",
       "       'Shooting accuracy %', 'Hit woodwork', 'Big chances missed',\n",
       "       'Clean sheets', 'Goals conceded', 'Tackles', 'Tackle success %',\n",
       "       'Last man tackles', 'Blocked shots', 'Interceptions', 'Clearances',\n",
       "       'Headed Clearance', 'Clearances off line', 'Recoveries', 'Duels won',\n",
       "       'Duels lost', 'Successful 50/50s', 'Aerial battles won',\n",
       "       'Aerial battles lost', 'Own goals', 'Errors leading to goal', 'Assists',\n",
       "       'Passes', 'Passes per match', 'Big chances created', 'Crosses',\n",
       "       'Cross accuracy %', 'Through balls', 'Accurate long balls', 'Saves',\n",
       "       'Penalties saved', 'Punches', 'High Claims', 'Catches',\n",
       "       'Sweeper clearances', 'Throw outs', 'Goal Kicks', 'Yellow cards',\n",
       "       'Red cards', 'Fouls', 'Offsides'],\n",
       "      dtype='object')"
      ]
     },
     "execution_count": 31,
     "metadata": {},
     "output_type": "execute_result"
    }
   ],
   "source": [
    "df.columns"
   ]
  },
  {
   "cell_type": "code",
   "execution_count": 32,
   "metadata": {},
   "outputs": [],
   "source": [
    "df = df[['Name','Position','Appearances','Goals','Shots on target','Passes', 'Passes per match','Offsides','Big chances created', 'Crosses']]"
   ]
  },
  {
   "cell_type": "code",
   "execution_count": 33,
   "metadata": {},
   "outputs": [
    {
     "data": {
      "text/html": [
       "<div>\n",
       "<style scoped>\n",
       "    .dataframe tbody tr th:only-of-type {\n",
       "        vertical-align: middle;\n",
       "    }\n",
       "\n",
       "    .dataframe tbody tr th {\n",
       "        vertical-align: top;\n",
       "    }\n",
       "\n",
       "    .dataframe thead th {\n",
       "        text-align: right;\n",
       "    }\n",
       "</style>\n",
       "<table border=\"1\" class=\"dataframe\">\n",
       "  <thead>\n",
       "    <tr style=\"text-align: right;\">\n",
       "      <th></th>\n",
       "      <th>Appearances</th>\n",
       "      <th>Goals</th>\n",
       "      <th>Shots on target</th>\n",
       "      <th>Passes</th>\n",
       "      <th>Passes per match</th>\n",
       "      <th>Offsides</th>\n",
       "      <th>Big chances created</th>\n",
       "      <th>Crosses</th>\n",
       "    </tr>\n",
       "  </thead>\n",
       "  <tbody>\n",
       "    <tr>\n",
       "      <th>count</th>\n",
       "      <td>571.000000</td>\n",
       "      <td>571.000000</td>\n",
       "      <td>309.000000</td>\n",
       "      <td>571.000000</td>\n",
       "      <td>571.000000</td>\n",
       "      <td>502.000000</td>\n",
       "      <td>502.000000</td>\n",
       "      <td>502.000000</td>\n",
       "    </tr>\n",
       "    <tr>\n",
       "      <th>mean</th>\n",
       "      <td>68.823117</td>\n",
       "      <td>7.327496</td>\n",
       "      <td>36.915858</td>\n",
       "      <td>2309.704028</td>\n",
       "      <td>25.895989</td>\n",
       "      <td>11.063745</td>\n",
       "      <td>8.171315</td>\n",
       "      <td>121.920319</td>\n",
       "    </tr>\n",
       "    <tr>\n",
       "      <th>std</th>\n",
       "      <td>81.797516</td>\n",
       "      <td>16.810490</td>\n",
       "      <td>57.506911</td>\n",
       "      <td>3127.226566</td>\n",
       "      <td>18.566906</td>\n",
       "      <td>26.570058</td>\n",
       "      <td>13.386715</td>\n",
       "      <td>244.916813</td>\n",
       "    </tr>\n",
       "    <tr>\n",
       "      <th>min</th>\n",
       "      <td>0.000000</td>\n",
       "      <td>0.000000</td>\n",
       "      <td>0.000000</td>\n",
       "      <td>0.000000</td>\n",
       "      <td>0.000000</td>\n",
       "      <td>0.000000</td>\n",
       "      <td>0.000000</td>\n",
       "      <td>0.000000</td>\n",
       "    </tr>\n",
       "    <tr>\n",
       "      <th>25%</th>\n",
       "      <td>3.000000</td>\n",
       "      <td>0.000000</td>\n",
       "      <td>1.000000</td>\n",
       "      <td>92.000000</td>\n",
       "      <td>11.255000</td>\n",
       "      <td>0.000000</td>\n",
       "      <td>0.000000</td>\n",
       "      <td>2.000000</td>\n",
       "    </tr>\n",
       "    <tr>\n",
       "      <th>50%</th>\n",
       "      <td>36.000000</td>\n",
       "      <td>1.000000</td>\n",
       "      <td>12.000000</td>\n",
       "      <td>1000.000000</td>\n",
       "      <td>25.010000</td>\n",
       "      <td>2.000000</td>\n",
       "      <td>3.000000</td>\n",
       "      <td>20.500000</td>\n",
       "    </tr>\n",
       "    <tr>\n",
       "      <th>75%</th>\n",
       "      <td>108.000000</td>\n",
       "      <td>6.000000</td>\n",
       "      <td>47.000000</td>\n",
       "      <td>3285.000000</td>\n",
       "      <td>37.970000</td>\n",
       "      <td>8.750000</td>\n",
       "      <td>9.000000</td>\n",
       "      <td>107.750000</td>\n",
       "    </tr>\n",
       "    <tr>\n",
       "      <th>max</th>\n",
       "      <td>539.000000</td>\n",
       "      <td>180.000000</td>\n",
       "      <td>411.000000</td>\n",
       "      <td>17932.000000</td>\n",
       "      <td>98.500000</td>\n",
       "      <td>203.000000</td>\n",
       "      <td>97.000000</td>\n",
       "      <td>2247.000000</td>\n",
       "    </tr>\n",
       "  </tbody>\n",
       "</table>\n",
       "</div>"
      ],
      "text/plain": [
       "       Appearances       Goals  Shots on target        Passes  \\\n",
       "count   571.000000  571.000000       309.000000    571.000000   \n",
       "mean     68.823117    7.327496        36.915858   2309.704028   \n",
       "std      81.797516   16.810490        57.506911   3127.226566   \n",
       "min       0.000000    0.000000         0.000000      0.000000   \n",
       "25%       3.000000    0.000000         1.000000     92.000000   \n",
       "50%      36.000000    1.000000        12.000000   1000.000000   \n",
       "75%     108.000000    6.000000        47.000000   3285.000000   \n",
       "max     539.000000  180.000000       411.000000  17932.000000   \n",
       "\n",
       "       Passes per match    Offsides  Big chances created      Crosses  \n",
       "count        571.000000  502.000000           502.000000   502.000000  \n",
       "mean          25.895989   11.063745             8.171315   121.920319  \n",
       "std           18.566906   26.570058            13.386715   244.916813  \n",
       "min            0.000000    0.000000             0.000000     0.000000  \n",
       "25%           11.255000    0.000000             0.000000     2.000000  \n",
       "50%           25.010000    2.000000             3.000000    20.500000  \n",
       "75%           37.970000    8.750000             9.000000   107.750000  \n",
       "max           98.500000  203.000000            97.000000  2247.000000  "
      ]
     },
     "execution_count": 33,
     "metadata": {},
     "output_type": "execute_result"
    }
   ],
   "source": [
    "df.describe()"
   ]
  },
  {
   "cell_type": "code",
   "execution_count": 34,
   "metadata": {},
   "outputs": [
    {
     "data": {
      "text/plain": [
       "Index(['Name', 'Position', 'Appearances', 'Goals', 'Shots on target', 'Passes',\n",
       "       'Passes per match', 'Offsides', 'Big chances created', 'Crosses'],\n",
       "      dtype='object')"
      ]
     },
     "execution_count": 34,
     "metadata": {},
     "output_type": "execute_result"
    }
   ],
   "source": [
    "df.columns"
   ]
  },
  {
   "cell_type": "code",
   "execution_count": 35,
   "metadata": {},
   "outputs": [
    {
     "data": {
      "text/plain": [
       "Index(['Name', 'Position', 'Appearances', 'Goals', 'Shots on target', 'Passes',\n",
       "       'Offsides', 'Big chances created', 'Crosses'],\n",
       "      dtype='object')"
      ]
     },
     "execution_count": 35,
     "metadata": {},
     "output_type": "execute_result"
    }
   ],
   "source": [
    "df.drop('Passes per match', inplace= True, axis= 1)\n",
    "df.columns"
   ]
  },
  {
   "cell_type": "code",
   "execution_count": 36,
   "metadata": {},
   "outputs": [
    {
     "data": {
      "text/plain": [
       "['Goals',\n",
       " 'Shots on target',\n",
       " 'Passes',\n",
       " 'Offsides',\n",
       " 'Big chances created',\n",
       " 'Crosses']"
      ]
     },
     "execution_count": 36,
     "metadata": {},
     "output_type": "execute_result"
    }
   ],
   "source": [
    "lista = list(df.columns)\n",
    "del lista[0:3]\n",
    "lista\n",
    "\n"
   ]
  },
  {
   "cell_type": "code",
   "execution_count": 37,
   "metadata": {},
   "outputs": [],
   "source": [
    "df['Goles x partido'] = df['Goals']/df['Appearances']\n",
    "df['Tiros x partido'] = df['Shots on target']/df['Appearances']\n",
    "df['Pases x partido'] = df['Passes']/df['Appearances']\n",
    "df['Offsides x partido'] = df['Offsides']/df['Appearances']\n",
    "df['Big chances created x partido'] = df['Big chances created']/df['Appearances']\n",
    "df['centros x partido'] = df['Crosses']/df['Appearances']"
   ]
  },
  {
   "cell_type": "code",
   "execution_count": 38,
   "metadata": {},
   "outputs": [
    {
     "data": {
      "text/html": [
       "<div>\n",
       "<style scoped>\n",
       "    .dataframe tbody tr th:only-of-type {\n",
       "        vertical-align: middle;\n",
       "    }\n",
       "\n",
       "    .dataframe tbody tr th {\n",
       "        vertical-align: top;\n",
       "    }\n",
       "\n",
       "    .dataframe thead th {\n",
       "        text-align: right;\n",
       "    }\n",
       "</style>\n",
       "<table border=\"1\" class=\"dataframe\">\n",
       "  <thead>\n",
       "    <tr style=\"text-align: right;\">\n",
       "      <th></th>\n",
       "      <th>Name</th>\n",
       "      <th>Position</th>\n",
       "      <th>Appearances</th>\n",
       "      <th>Goals</th>\n",
       "      <th>Shots on target</th>\n",
       "      <th>Passes</th>\n",
       "      <th>Offsides</th>\n",
       "      <th>Big chances created</th>\n",
       "      <th>Crosses</th>\n",
       "      <th>Goles x partido</th>\n",
       "      <th>Tiros x partido</th>\n",
       "      <th>Pases x partido</th>\n",
       "      <th>Offsides x partido</th>\n",
       "      <th>Big chances created x partido</th>\n",
       "      <th>centros x partido</th>\n",
       "    </tr>\n",
       "  </thead>\n",
       "  <tbody>\n",
       "    <tr>\n",
       "      <th>315</th>\n",
       "      <td>Takumi Minamino</td>\n",
       "      <td>Forward</td>\n",
       "      <td>11</td>\n",
       "      <td>0</td>\n",
       "      <td>2.0</td>\n",
       "      <td>107</td>\n",
       "      <td>0.0</td>\n",
       "      <td>0.0</td>\n",
       "      <td>2.0</td>\n",
       "      <td>0.000000</td>\n",
       "      <td>0.181818</td>\n",
       "      <td>9.727273</td>\n",
       "      <td>0.000000</td>\n",
       "      <td>0.000000</td>\n",
       "      <td>0.181818</td>\n",
       "    </tr>\n",
       "    <tr>\n",
       "      <th>231</th>\n",
       "      <td>Luke Ayling</td>\n",
       "      <td>Defender</td>\n",
       "      <td>2</td>\n",
       "      <td>0</td>\n",
       "      <td>NaN</td>\n",
       "      <td>108</td>\n",
       "      <td>0.0</td>\n",
       "      <td>0.0</td>\n",
       "      <td>3.0</td>\n",
       "      <td>0.000000</td>\n",
       "      <td>NaN</td>\n",
       "      <td>54.000000</td>\n",
       "      <td>0.000000</td>\n",
       "      <td>0.000000</td>\n",
       "      <td>1.500000</td>\n",
       "    </tr>\n",
       "    <tr>\n",
       "      <th>353</th>\n",
       "      <td>Phil Jones</td>\n",
       "      <td>Defender</td>\n",
       "      <td>200</td>\n",
       "      <td>2</td>\n",
       "      <td>NaN</td>\n",
       "      <td>7835</td>\n",
       "      <td>3.0</td>\n",
       "      <td>11.0</td>\n",
       "      <td>137.0</td>\n",
       "      <td>0.010000</td>\n",
       "      <td>NaN</td>\n",
       "      <td>39.175000</td>\n",
       "      <td>0.015000</td>\n",
       "      <td>0.055000</td>\n",
       "      <td>0.685000</td>\n",
       "    </tr>\n",
       "    <tr>\n",
       "      <th>42</th>\n",
       "      <td>Tyrone Mings</td>\n",
       "      <td>Defender</td>\n",
       "      <td>51</td>\n",
       "      <td>2</td>\n",
       "      <td>NaN</td>\n",
       "      <td>1961</td>\n",
       "      <td>2.0</td>\n",
       "      <td>2.0</td>\n",
       "      <td>10.0</td>\n",
       "      <td>0.039216</td>\n",
       "      <td>NaN</td>\n",
       "      <td>38.450980</td>\n",
       "      <td>0.039216</td>\n",
       "      <td>0.039216</td>\n",
       "      <td>0.196078</td>\n",
       "    </tr>\n",
       "  </tbody>\n",
       "</table>\n",
       "</div>"
      ],
      "text/plain": [
       "                Name  Position  Appearances  Goals  Shots on target  Passes  \\\n",
       "315  Takumi Minamino   Forward           11      0              2.0     107   \n",
       "231      Luke Ayling  Defender            2      0              NaN     108   \n",
       "353       Phil Jones  Defender          200      2              NaN    7835   \n",
       "42      Tyrone Mings  Defender           51      2              NaN    1961   \n",
       "\n",
       "     Offsides  Big chances created  Crosses  Goles x partido  Tiros x partido  \\\n",
       "315       0.0                  0.0      2.0         0.000000         0.181818   \n",
       "231       0.0                  0.0      3.0         0.000000              NaN   \n",
       "353       3.0                 11.0    137.0         0.010000              NaN   \n",
       "42        2.0                  2.0     10.0         0.039216              NaN   \n",
       "\n",
       "     Pases x partido  Offsides x partido  Big chances created x partido  \\\n",
       "315         9.727273            0.000000                       0.000000   \n",
       "231        54.000000            0.000000                       0.000000   \n",
       "353        39.175000            0.015000                       0.055000   \n",
       "42         38.450980            0.039216                       0.039216   \n",
       "\n",
       "     centros x partido  \n",
       "315           0.181818  \n",
       "231           1.500000  \n",
       "353           0.685000  \n",
       "42            0.196078  "
      ]
     },
     "execution_count": 38,
     "metadata": {},
     "output_type": "execute_result"
    }
   ],
   "source": [
    "df.sample(4)"
   ]
  },
  {
   "cell_type": "code",
   "execution_count": 39,
   "metadata": {},
   "outputs": [
    {
     "data": {
      "text/html": [
       "<div>\n",
       "<style scoped>\n",
       "    .dataframe tbody tr th:only-of-type {\n",
       "        vertical-align: middle;\n",
       "    }\n",
       "\n",
       "    .dataframe tbody tr th {\n",
       "        vertical-align: top;\n",
       "    }\n",
       "\n",
       "    .dataframe thead th {\n",
       "        text-align: right;\n",
       "    }\n",
       "</style>\n",
       "<table border=\"1\" class=\"dataframe\">\n",
       "  <thead>\n",
       "    <tr style=\"text-align: right;\">\n",
       "      <th></th>\n",
       "      <th>Name</th>\n",
       "      <th>Position</th>\n",
       "      <th>Appearances</th>\n",
       "      <th>Goles x partido</th>\n",
       "      <th>Tiros x partido</th>\n",
       "      <th>Pases x partido</th>\n",
       "      <th>Offsides x partido</th>\n",
       "      <th>Big chances created x partido</th>\n",
       "      <th>centros x partido</th>\n",
       "    </tr>\n",
       "  </thead>\n",
       "  <tbody>\n",
       "    <tr>\n",
       "      <th>467</th>\n",
       "      <td>Juan Foyth</td>\n",
       "      <td>Defender</td>\n",
       "      <td>16</td>\n",
       "      <td>0.0625</td>\n",
       "      <td>NaN</td>\n",
       "      <td>40.125000</td>\n",
       "      <td>0.0</td>\n",
       "      <td>0.125</td>\n",
       "      <td>0.125000</td>\n",
       "    </tr>\n",
       "    <tr>\n",
       "      <th>279</th>\n",
       "      <td>Nampalys Mendy</td>\n",
       "      <td>Midfielder</td>\n",
       "      <td>44</td>\n",
       "      <td>0.0000</td>\n",
       "      <td>0.022727</td>\n",
       "      <td>35.431818</td>\n",
       "      <td>0.0</td>\n",
       "      <td>0.000</td>\n",
       "      <td>0.136364</td>\n",
       "    </tr>\n",
       "    <tr>\n",
       "      <th>348</th>\n",
       "      <td>Lee Grant</td>\n",
       "      <td>Goalkeeper</td>\n",
       "      <td>31</td>\n",
       "      <td>0.0000</td>\n",
       "      <td>NaN</td>\n",
       "      <td>30.935484</td>\n",
       "      <td>NaN</td>\n",
       "      <td>NaN</td>\n",
       "      <td>NaN</td>\n",
       "    </tr>\n",
       "    <tr>\n",
       "      <th>102</th>\n",
       "      <td>Bobby Thomas</td>\n",
       "      <td>Defender</td>\n",
       "      <td>0</td>\n",
       "      <td>NaN</td>\n",
       "      <td>NaN</td>\n",
       "      <td>NaN</td>\n",
       "      <td>NaN</td>\n",
       "      <td>NaN</td>\n",
       "      <td>NaN</td>\n",
       "    </tr>\n",
       "  </tbody>\n",
       "</table>\n",
       "</div>"
      ],
      "text/plain": [
       "               Name    Position  Appearances  Goles x partido  \\\n",
       "467      Juan Foyth    Defender           16           0.0625   \n",
       "279  Nampalys Mendy  Midfielder           44           0.0000   \n",
       "348       Lee Grant  Goalkeeper           31           0.0000   \n",
       "102    Bobby Thomas    Defender            0              NaN   \n",
       "\n",
       "     Tiros x partido  Pases x partido  Offsides x partido  \\\n",
       "467              NaN        40.125000                 0.0   \n",
       "279         0.022727        35.431818                 0.0   \n",
       "348              NaN        30.935484                 NaN   \n",
       "102              NaN              NaN                 NaN   \n",
       "\n",
       "     Big chances created x partido  centros x partido  \n",
       "467                          0.125           0.125000  \n",
       "279                          0.000           0.136364  \n",
       "348                            NaN                NaN  \n",
       "102                            NaN                NaN  "
      ]
     },
     "execution_count": 39,
     "metadata": {},
     "output_type": "execute_result"
    }
   ],
   "source": [
    "for columna in lista:\n",
    "    df.drop(columna, inplace= True, axis= 1)\n",
    "\n",
    "df.sample(4)"
   ]
  },
  {
   "cell_type": "markdown",
   "metadata": {},
   "source": [
    "#### Habiendo obtenido las columnas que quería evaluar, paso a filtrar para evaluar sólo los jugadores que son delanteros y complen estar en el percentil 40 o superior en cuanto a appearances para evitar los outliers debido a pocas apariciones"
   ]
  },
  {
   "cell_type": "code",
   "execution_count": 40,
   "metadata": {},
   "outputs": [
    {
     "data": {
      "text/plain": [
       "25.0"
      ]
     },
     "execution_count": 40,
     "metadata": {},
     "output_type": "execute_result"
    }
   ],
   "source": [
    "# Obtengo el percentil 40 de Appearances\n",
    "percentil40_Appearances = stats.scoreatpercentile(a = df.Appearances, per = 40, axis= None)\n",
    "percentil40_Appearances"
   ]
  },
  {
   "cell_type": "code",
   "execution_count": 41,
   "metadata": {},
   "outputs": [
    {
     "data": {
      "text/plain": [
       "(76, 9)"
      ]
     },
     "execution_count": 41,
     "metadata": {},
     "output_type": "execute_result"
    }
   ],
   "source": [
    "delanteros = df[(df['Appearances'] >= percentil40_Appearances)&(df['Position'] == 'Forward')].reset_index(drop = True)\n",
    "delanteros.shape"
   ]
  },
  {
   "cell_type": "code",
   "execution_count": 42,
   "metadata": {},
   "outputs": [],
   "source": [
    "params = list(delanteros.columns[3:])\n",
    "aguero = list(delanteros[delanteros['Name'] == 'Sergio Agüero'].iloc[0].values[3:])"
   ]
  },
  {
   "cell_type": "code",
   "execution_count": 43,
   "metadata": {},
   "outputs": [
    {
     "data": {
      "text/plain": [
       "6"
      ]
     },
     "execution_count": 43,
     "metadata": {},
     "output_type": "execute_result"
    }
   ],
   "source": [
    "len(params)"
   ]
  },
  {
   "cell_type": "markdown",
   "metadata": {},
   "source": [
    "#### Obtengo un array con los percentiles de Aguero para cada una de las estadísticas"
   ]
  },
  {
   "cell_type": "code",
   "execution_count": 44,
   "metadata": {},
   "outputs": [
    {
     "data": {
      "text/plain": [
       "[100, 97, 82, 94, 86, 48]"
      ]
     },
     "execution_count": 44,
     "metadata": {},
     "output_type": "execute_result"
    }
   ],
   "source": [
    "values = []\n",
    "for x in range(len(params)):\n",
    "    values.append(math.floor(stats.percentileofscore(delanteros[params[x]], aguero[x])))\n",
    "\n",
    "values"
   ]
  },
  {
   "cell_type": "markdown",
   "metadata": {},
   "source": [
    "#### Copio el código desde la librería Mpl Soccer"
   ]
  },
  {
   "cell_type": "code",
   "execution_count": 45,
   "metadata": {},
   "outputs": [
    {
     "data": {
      "text/plain": [
       "6"
      ]
     },
     "execution_count": 45,
     "metadata": {},
     "output_type": "execute_result"
    }
   ],
   "source": [
    "len(params)"
   ]
  },
  {
   "cell_type": "code",
   "execution_count": 56,
   "metadata": {},
   "outputs": [],
   "source": [
    "# Open an image from the Internet\n",
    "def open_image_internet(url_adress):\n",
    "    response = requests.get(url_adress) # Send http request to the url adress\n",
    "    \n",
    "    # Make sure everything went right\n",
    "    if response.status_code == 200:\n",
    "        image_bytes = BytesIO(response.content) # Get content \n",
    "        image = Image.open(image_bytes) # Open the image\n",
    "        return image # Output\n",
    "    else:\n",
    "        print(\"Failed to download image:\", response.status_code)\n",
    "\n",
    "# Open image from the Internet\n",
    "image_internet = open_image_internet('https://banner2.cleanpng.com/20180819/tjz/kisspng-sergio-agero-fifa-18-manchester-city-f-c-argent-fut-champions-monthly-rewards-for-futwiz-5b797d59bfd806.5955745115346886017858.jpg')"
   ]
  },
  {
   "cell_type": "code",
   "execution_count": 63,
   "metadata": {},
   "outputs": [],
   "source": [
    "def open_image_local(path_to_image):\n",
    "    image = Image.open(path_to_image) # Open the image\n",
    "    image_array = np.array(image) # Convert to a numpy array\n",
    "    return image_array # Output\n",
    "\n",
    "# Open the image from my computer\n",
    "image_local = open_image_local(r'C:\\Users\\Usuario\\Desktop\\Fulbo analisis\\aguero_png-circ.png')"
   ]
  },
  {
   "cell_type": "code",
   "execution_count": 65,
   "metadata": {},
   "outputs": [],
   "source": [
    "URL3 = 'https://github.com/VanillaandCream/Catamaran-Tamil/blob/master/Fonts/Catamaran-Medium.ttf?raw=true'\n",
    "catamaran2 = FontManager(URL3)\n",
    "URL = 'https://github.com/google/fonts/blob/main/ofl/fjallaone/FjallaOne-Regular.ttf?raw=true'\n",
    "robotto_regular = FontManager(URL)\n",
    "URL2 = 'https://github.com/VanillaandCream/Catamaran-Tamil/blob/master/Fonts/Catamaran-ExtraBold.ttf?raw=true'\n",
    "catamaran = FontManager(URL2)"
   ]
  },
  {
   "cell_type": "code",
   "execution_count": 86,
   "metadata": {},
   "outputs": [
    {
     "data": {
      "image/png": "[encoded data removed]",
      "text/plain": [
       "<Figure size 1000x1000 with 2 Axes>"
      ]
     },
     "metadata": {},
     "output_type": "display_data"
    }
   ],
   "source": [
    "\n",
    "# color for the slices and text\n",
    "slice_colors = [\"#1A78CF\"] * 2 + [\"#FF9300\"] * 2 + [\"#D70232\"] * 2\n",
    "text_colors = [\"#000000\"] * 4 + [\"#F2F2F2\"] * 2\n",
    "\n",
    "\n",
    "# instantiate PyPizza class\n",
    "baker = PyPizza(\n",
    "    params=params,                  # list of parameters\n",
    "    background_color=\"#222222\",     # background color\n",
    "    straight_line_color=\"#000000\",  # color for straight lines\n",
    "    straight_line_lw=1,             # linewidth for straight lines\n",
    "    last_circle_color= '#000000',\n",
    "    last_circle_lw=0,               # linewidth of last circle\n",
    "    other_circle_lw=0,              # linewidth for other circles\n",
    "    inner_circle_size=20            # size of inner circle\n",
    ")\n",
    "\n",
    "# plot pizza\n",
    "fig, ax = baker.make_pizza(\n",
    "    values,                          # list of values\n",
    "    figsize=(10, 10),                # adjust figsize according to your need\n",
    "    color_blank_space=\"same\",        # use same color to fill blank space\n",
    "    slice_colors=slice_colors,       # color for individual slices\n",
    "    value_colors=text_colors,        # color for the value-text\n",
    "    value_bck_colors=slice_colors,   # color for the blank spaces\n",
    "    blank_alpha=0.4,                 # alpha for blank-space colors\n",
    "    kwargs_slices=dict(\n",
    "        edgecolor=\"#000000\", zorder=2, linewidth=1\n",
    "    ),                               # values to be used when plotting slices\n",
    "    kwargs_params=dict(\n",
    "        color=\"#F2F2F2\", fontsize=11,\n",
    "        fontproperties=robotto_regular.prop, va=\"center\"\n",
    "    ),                               # values to be used when adding parameter\n",
    "    kwargs_values=dict(\n",
    "        color=\"#F2F2F2\", fontsize=11,\n",
    "        fontproperties=robotto_regular.prop, zorder=3,\n",
    "        bbox=dict(\n",
    "            edgecolor=\"#000000\", facecolor=\"cornflowerblue\",\n",
    "            boxstyle=\"round,pad=0.2\", lw=1\n",
    "        )\n",
    "    )                                # values to be used when adding parameter-values\n",
    ")\n",
    "\n",
    "# add title\n",
    "fig.text(\n",
    "    0.515, 0.975, \"Kun Agüero - Man City\", size=30,\n",
    "    ha=\"center\", fontproperties=catamaran.prop, color=\"#F2F2F2\"\n",
    ")\n",
    "\n",
    "# add subtitle\n",
    "fig.text(\n",
    "    0.515, 0.943,\n",
    "    \"Percentiles vs. Delanteros | Premier League\",\n",
    "    size=13,\n",
    "    ha=\"center\", fontproperties=robotto_regular.prop, color=\"#F2F2F2\"\n",
    ")\n",
    "\n",
    "#add credits\n",
    "CREDIT_1 = \"data: statsbomb viz fbref\"\n",
    "CREDIT_2 = \"inspired by: @LanusStats\"\n",
    "\n",
    "fig.text(\n",
    "    0.99, 0.02, f\"{CREDIT_1}\\n{CREDIT_2}\", size=9,\n",
    "    fontproperties=catamaran2.prop, color=\"#F2F2F2\",\n",
    "    ha=\"right\"\n",
    ")\n",
    "\n",
    "# add text\n",
    "# fig.text(\n",
    "#     0.34, 0.925, \"Generales         Pases                Defensiva         Ataque\", size=14,\n",
    "#     fontproperties=robotto_regular.prop, color=\"#F2F2F2\"\n",
    "# )\n",
    "\n",
    "# add rectangles\n",
    "# fig.patches.extend([\n",
    "#     plt.Rectangle(\n",
    "#         (0.31, 0.9225), 0.025, 0.021, fill=True, color=\"#1a78cf\",\n",
    "#         transform=fig.transFigure, figure=fig\n",
    "#     ),\n",
    "#     plt.Rectangle(\n",
    "#         (0.42, 0.9225), 0.025, 0.021, fill=True, color=\"#ff9300\",\n",
    "#         transform=fig.transFigure, figure=fig\n",
    "#     ),\n",
    "#     plt.Rectangle(\n",
    "#         (0.53, 0.9225), 0.025, 0.021, fill=True, color=\"#d70232\",\n",
    "#         transform=fig.transFigure, figure=fig\n",
    "#     ),\n",
    "#     plt.Rectangle(\n",
    "#         (0.64, 0.9225), 0.025, 0.021, fill=True, color=\"#d70232\",\n",
    "#         transform=fig.transFigure, figure=fig\n",
    "#     ),\n",
    "# ])\n",
    "\n",
    "# add image\n",
    "ax_image = add_image(\n",
    "    image_local, fig, left=0.4478, bottom=0.43, width=0.13, height=0.127\n",
    ")   # these values might differ when you are plotting\n",
    "\n",
    "fig.savefig(\"Radar Percentiles_Sergio Agüero\", dpi = 300)"
   ]
  }
 ],
 "metadata": {
  "kernelspec": {
   "display_name": "Python 3",
   "language": "python",
   "name": "python3"
  },
  "language_info": {
   "codemirror_mode": {
    "name": "ipython",
    "version": 3
   },
   "file_extension": ".py",
   "mimetype": "text/x-python",
   "name": "python",
   "nbconvert_exporter": "python",
   "pygments_lexer": "ipython3",
   "version": "3.12.0"
  }
 },
 "nbformat": 4,
 "nbformat_minor": 2
}
